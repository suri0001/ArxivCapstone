{
 "cells": [
  {
   "cell_type": "markdown",
   "metadata": {},
   "source": [
    "# Introduction\n",
    "This is the data wrangling and EDA for the capstone project."
   ]
  },
  {
   "cell_type": "code",
   "execution_count": 1,
   "metadata": {},
   "outputs": [],
   "source": [
    "import pandas as pd\n",
    "import numpy as np\n",
    "import json\n",
    "from functools import reduce\n",
    "from collections import defaultdict\n",
    "import warnings\n",
    "warnings.filterwarnings(\"ignore\")"
   ]
  },
  {
   "cell_type": "code",
   "execution_count": 7,
   "metadata": {},
   "outputs": [],
   "source": [
    "l = list()\n",
    "with open(\"arxiv-metadata-oai-snapshot.json\", 'r',1) as f:\n",
    "    \"\"\"The data file is too large to open directly, but if we go through it line by line\n",
    "    we can append the desired data into a list that we can hold in memory\"\"\"\n",
    "    for line in f:\n",
    "          d = json.loads(line)\n",
    "          ap = dict()\n",
    "          ap['id'] = d['id']\n",
    "          ap['categories'] = d['categories']\n",
    "          ap['title'] = d['title']\n",
    "          ap['abstract'] = d['abstract']\n",
    "          l.append(ap)"
   ]
  },
  {
   "cell_type": "code",
   "execution_count": 9,
   "metadata": {},
   "outputs": [],
   "source": [
    "df = pd.DataFrame(l)"
   ]
  },
  {
   "cell_type": "code",
   "execution_count": 10,
   "metadata": {},
   "outputs": [
    {
     "data": {
      "text/html": [
       "<div>\n",
       "<style scoped>\n",
       "    .dataframe tbody tr th:only-of-type {\n",
       "        vertical-align: middle;\n",
       "    }\n",
       "\n",
       "    .dataframe tbody tr th {\n",
       "        vertical-align: top;\n",
       "    }\n",
       "\n",
       "    .dataframe thead th {\n",
       "        text-align: right;\n",
       "    }\n",
       "</style>\n",
       "<table border=\"1\" class=\"dataframe\">\n",
       "  <thead>\n",
       "    <tr style=\"text-align: right;\">\n",
       "      <th></th>\n",
       "      <th>id</th>\n",
       "      <th>categories</th>\n",
       "      <th>title</th>\n",
       "      <th>abstract</th>\n",
       "    </tr>\n",
       "  </thead>\n",
       "  <tbody>\n",
       "    <tr>\n",
       "      <th>0</th>\n",
       "      <td>0704.0001</td>\n",
       "      <td>hep-ph</td>\n",
       "      <td>Calculation of prompt diphoton production cros...</td>\n",
       "      <td>A fully differential calculation in perturba...</td>\n",
       "    </tr>\n",
       "    <tr>\n",
       "      <th>1</th>\n",
       "      <td>0704.0002</td>\n",
       "      <td>math.CO cs.CG</td>\n",
       "      <td>Sparsity-certifying Graph Decompositions</td>\n",
       "      <td>We describe a new algorithm, the $(k,\\ell)$-...</td>\n",
       "    </tr>\n",
       "    <tr>\n",
       "      <th>2</th>\n",
       "      <td>0704.0003</td>\n",
       "      <td>physics.gen-ph</td>\n",
       "      <td>The evolution of the Earth-Moon system based o...</td>\n",
       "      <td>The evolution of Earth-Moon system is descri...</td>\n",
       "    </tr>\n",
       "    <tr>\n",
       "      <th>3</th>\n",
       "      <td>0704.0004</td>\n",
       "      <td>math.CO</td>\n",
       "      <td>A determinant of Stirling cycle numbers counts...</td>\n",
       "      <td>We show that a determinant of Stirling cycle...</td>\n",
       "    </tr>\n",
       "    <tr>\n",
       "      <th>4</th>\n",
       "      <td>0704.0005</td>\n",
       "      <td>math.CA math.FA</td>\n",
       "      <td>From dyadic $\\Lambda_{\\alpha}$ to $\\Lambda_{\\a...</td>\n",
       "      <td>In this paper we show how to compute the $\\L...</td>\n",
       "    </tr>\n",
       "  </tbody>\n",
       "</table>\n",
       "</div>"
      ],
      "text/plain": [
       "          id       categories  \\\n",
       "0  0704.0001           hep-ph   \n",
       "1  0704.0002    math.CO cs.CG   \n",
       "2  0704.0003   physics.gen-ph   \n",
       "3  0704.0004          math.CO   \n",
       "4  0704.0005  math.CA math.FA   \n",
       "\n",
       "                                               title  \\\n",
       "0  Calculation of prompt diphoton production cros...   \n",
       "1           Sparsity-certifying Graph Decompositions   \n",
       "2  The evolution of the Earth-Moon system based o...   \n",
       "3  A determinant of Stirling cycle numbers counts...   \n",
       "4  From dyadic $\\Lambda_{\\alpha}$ to $\\Lambda_{\\a...   \n",
       "\n",
       "                                            abstract  \n",
       "0    A fully differential calculation in perturba...  \n",
       "1    We describe a new algorithm, the $(k,\\ell)$-...  \n",
       "2    The evolution of Earth-Moon system is descri...  \n",
       "3    We show that a determinant of Stirling cycle...  \n",
       "4    In this paper we show how to compute the $\\L...  "
      ]
     },
     "execution_count": 10,
     "metadata": {},
     "output_type": "execute_result"
    }
   ],
   "source": [
    "df.head()"
   ]
  },
  {
   "cell_type": "code",
   "execution_count": 11,
   "metadata": {},
   "outputs": [
    {
     "name": "stdout",
     "output_type": "stream",
     "text": [
      "<class 'pandas.core.frame.DataFrame'>\n",
      "RangeIndex: 1931777 entries, 0 to 1931776\n",
      "Data columns (total 4 columns):\n",
      " #   Column      Dtype \n",
      "---  ------      ----- \n",
      " 0   id          object\n",
      " 1   categories  object\n",
      " 2   title       object\n",
      " 3   abstract    object\n",
      "dtypes: object(4)\n",
      "memory usage: 59.0+ MB\n"
     ]
    }
   ],
   "source": [
    "df.info()"
   ]
  },
  {
   "cell_type": "code",
   "execution_count": 13,
   "metadata": {},
   "outputs": [
    {
     "data": {
      "text/plain": [
       "id            0\n",
       "categories    0\n",
       "title         0\n",
       "abstract      0\n",
       "dtype: int64"
      ]
     },
     "execution_count": 13,
     "metadata": {},
     "output_type": "execute_result"
    }
   ],
   "source": [
    "df.isna().sum() #Check for null values"
   ]
  },
  {
   "cell_type": "code",
   "execution_count": 11,
   "metadata": {},
   "outputs": [],
   "source": [
    "df.to_csv('selected_columns.csv', index=False)#Save pruned data into a csv to retrieve later."
   ]
  },
  {
   "cell_type": "markdown",
   "metadata": {},
   "source": [
    "## Do not run Cells Before this one\n",
    "From only cells after this one should be run"
   ]
  },
  {
   "cell_type": "code",
   "execution_count": 1,
   "metadata": {},
   "outputs": [],
   "source": [
    "import pandas as pd\n",
    "import numpy as np\n",
    "import json\n",
    "import nltk\n",
    "from nltk.corpus.reader.plaintext import PlaintextCorpusReader\n",
    "from functools import reduce\n",
    "from sklearn.model_selection import train_test_split\n",
    "from sklearn.feature_extraction import DictVectorizer\n",
    "import warnings\n",
    "warnings.filterwarnings(\"ignore\")"
   ]
  },
  {
   "cell_type": "code",
   "execution_count": 2,
   "metadata": {},
   "outputs": [],
   "source": [
    "df = pd.read_csv('selected_columns.csv')"
   ]
  },
  {
   "cell_type": "code",
   "execution_count": 3,
   "metadata": {},
   "outputs": [],
   "source": [
    "df['id'] = df['id'].apply(str) #to ensure unique ids"
   ]
  },
  {
   "cell_type": "code",
   "execution_count": 5,
   "metadata": {},
   "outputs": [],
   "source": [
    "df = (df.loc[~df.id.duplicated()]) #eliminate duplicates."
   ]
  },
  {
   "cell_type": "code",
   "execution_count": 6,
   "metadata": {},
   "outputs": [
    {
     "name": "stdout",
     "output_type": "stream",
     "text": [
      "<class 'pandas.core.frame.DataFrame'>\n",
      "Int64Index: 193177 entries, 183512 to 854627\n",
      "Data columns (total 4 columns):\n",
      " #   Column      Non-Null Count   Dtype \n",
      "---  ------      --------------   ----- \n",
      " 0   id          193177 non-null  object\n",
      " 1   categories  193177 non-null  object\n",
      " 2   title       193177 non-null  object\n",
      " 3   abstract    193177 non-null  object\n",
      "dtypes: object(4)\n",
      "memory usage: 7.4+ MB\n"
     ]
    }
   ],
   "source": [
    "#after attempting to run cells in this notebook several times, I've concluded I need to trim\n",
    "#down the dataset. I've decided to use train_test_split to randomly select 10% of the data\n",
    "#which is pretty drastic, but since I have a deadline, I decided it was best to drastically \n",
    "#cut back on the amount of data and be able to process it than do something more reasonable\n",
    "#and risk crashing again. With the initial data set containing nearly 2,000,000 entries 10%\n",
    "#is still enough for meanful model evaluation. This unfortunately means I'll have to \n",
    "#remake the corpus, but that should be significantly faster this time.\n",
    "used_df = train_test_split(df, train_size=0.1)[0]\n",
    "used_df.info()"
   ]
  },
  {
   "cell_type": "code",
   "execution_count": 10,
   "metadata": {},
   "outputs": [],
   "source": [
    "#This looks good, so I'm going to save it to a csv for consisstency later\n",
    "used_df.to_csv(\"selected_rows.csv\", index=False)"
   ]
  },
  {
   "cell_type": "code",
   "execution_count": 4,
   "metadata": {},
   "outputs": [],
   "source": [
    "df = pd.read_csv(\"selected_rows.csv\",)"
   ]
  },
  {
   "cell_type": "code",
   "execution_count": 3,
   "metadata": {},
   "outputs": [
    {
     "data": {
      "text/html": [
       "<div>\n",
       "<style scoped>\n",
       "    .dataframe tbody tr th:only-of-type {\n",
       "        vertical-align: middle;\n",
       "    }\n",
       "\n",
       "    .dataframe tbody tr th {\n",
       "        vertical-align: top;\n",
       "    }\n",
       "\n",
       "    .dataframe thead th {\n",
       "        text-align: right;\n",
       "    }\n",
       "</style>\n",
       "<table border=\"1\" class=\"dataframe\">\n",
       "  <thead>\n",
       "    <tr style=\"text-align: right;\">\n",
       "      <th></th>\n",
       "      <th>id</th>\n",
       "      <th>categories</th>\n",
       "      <th>title</th>\n",
       "      <th>abstract</th>\n",
       "    </tr>\n",
       "  </thead>\n",
       "  <tbody>\n",
       "    <tr>\n",
       "      <th>0</th>\n",
       "      <td>1004.1572</td>\n",
       "      <td>cond-mat.mes-hall quant-ph</td>\n",
       "      <td>Finite-frequency counting statistics of electr...</td>\n",
       "      <td>We present a theory of frequency-dependent c...</td>\n",
       "    </tr>\n",
       "    <tr>\n",
       "      <th>1</th>\n",
       "      <td>1809.02862</td>\n",
       "      <td>cs.IR cs.CY</td>\n",
       "      <td>A survey of food recommenders</td>\n",
       "      <td>Everyone eats. However, people do not always...</td>\n",
       "    </tr>\n",
       "    <tr>\n",
       "      <th>2</th>\n",
       "      <td>804.414</td>\n",
       "      <td>physics.optics</td>\n",
       "      <td>Coupled-resonator-induced reflection in photon...</td>\n",
       "      <td>We study the resonant transmission of light ...</td>\n",
       "    </tr>\n",
       "    <tr>\n",
       "      <th>3</th>\n",
       "      <td>2004.05464</td>\n",
       "      <td>math.CT</td>\n",
       "      <td>Descent cospans for the fibration of points</td>\n",
       "      <td>Draft version of a paper concerning an inter...</td>\n",
       "    </tr>\n",
       "    <tr>\n",
       "      <th>4</th>\n",
       "      <td>hep-ph/0509060</td>\n",
       "      <td>hep-ph</td>\n",
       "      <td>Spectroscopy of Pentaquark Baryons</td>\n",
       "      <td>A review is given to pentaquark mass predict...</td>\n",
       "    </tr>\n",
       "  </tbody>\n",
       "</table>\n",
       "</div>"
      ],
      "text/plain": [
       "               id                  categories  \\\n",
       "0       1004.1572  cond-mat.mes-hall quant-ph   \n",
       "1      1809.02862                 cs.IR cs.CY   \n",
       "2         804.414              physics.optics   \n",
       "3      2004.05464                     math.CT   \n",
       "4  hep-ph/0509060                      hep-ph   \n",
       "\n",
       "                                               title  \\\n",
       "0  Finite-frequency counting statistics of electr...   \n",
       "1                      A survey of food recommenders   \n",
       "2  Coupled-resonator-induced reflection in photon...   \n",
       "3        Descent cospans for the fibration of points   \n",
       "4                 Spectroscopy of Pentaquark Baryons   \n",
       "\n",
       "                                            abstract  \n",
       "0    We present a theory of frequency-dependent c...  \n",
       "1    Everyone eats. However, people do not always...  \n",
       "2    We study the resonant transmission of light ...  \n",
       "3    Draft version of a paper concerning an inter...  \n",
       "4    A review is given to pentaquark mass predict...  "
      ]
     },
     "execution_count": 3,
     "metadata": {},
     "output_type": "execute_result"
    }
   ],
   "source": [
    "df.head()"
   ]
  },
  {
   "cell_type": "code",
   "execution_count": 13,
   "metadata": {
    "scrolled": true
   },
   "outputs": [],
   "source": [
    "for t, a in zip(df['id'], df['abstract']):\n",
    "    t = t.replace('\\n', '')\n",
    "    t = t.replace('\\\\', '')\n",
    "    t = t.replace('\"', '')\n",
    "    t = t.replace('<', '')\n",
    "    t = t.replace('>', '')\n",
    "    t = t.replace('?', '')\n",
    "    t = t.replace('*', '')\n",
    "    t = t.replace('^', '')\n",
    "    t = t.replace('/', 'or')\n",
    "    t = t.replace('|', '')\n",
    "    t = t.replace(':', '')\n",
    "    t = t.replace(\"'\", '')\n",
    "    t = t.replace('+', 'plus')\n",
    "    t = t.replace('=', 'equal')\n",
    "    t = t.replace(' ', '')\n",
    "    t = t.replace('$', '')\n",
    "    with open('data\\\\corpus\\\\'+t+'.txt',  'w', encoding='utf-8') as f:\n",
    "        f.write(a)\n",
    "        #print(len(t.split()))"
   ]
  },
  {
   "cell_type": "code",
   "execution_count": 5,
   "metadata": {},
   "outputs": [],
   "source": [
    "def get_file_name(title):\n",
    "    \"\"\"Returns the filename of the file in the corpus for a specified paper title. \n",
    "    It does this by applying the modifications that were done to make the file in the firstplace.\n",
    "    It does not check to see if the file actually exists.\"\"\"\n",
    "    t = title.replace('\\n', '')\n",
    "    t = t.replace('\\\\', '')\n",
    "    t = t.replace('\"', '')\n",
    "    t = t.replace('<', '')\n",
    "    t = t.replace('>', '')\n",
    "    t = t.replace('?', '')\n",
    "    t = t.replace('*', '')\n",
    "    t = t.replace('^', '')\n",
    "    t = t.replace('/', 'or')\n",
    "    t = t.replace('|', '')\n",
    "    t = t.replace(':', '')\n",
    "    t = t.replace(\"'\", '')\n",
    "    t = t.replace('+', '-plus')\n",
    "    t = t.replace('=', 'equal')\n",
    "    t = t.replace(' ', '')\n",
    "    t = t.replace('$', '')\n",
    "    return 'data\\\\corpus\\\\'+t+'.txt'"
   ]
  },
  {
   "cell_type": "code",
   "execution_count": 6,
   "metadata": {},
   "outputs": [],
   "source": [
    "dr = \"data\\\\corpus\\\\\"\n",
    "corpus = PlaintextCorpusReader(dr, '.*')"
   ]
  },
  {
   "cell_type": "code",
   "execution_count": 7,
   "metadata": {},
   "outputs": [],
   "source": [
    "from nltk.corpus import stopwords\n",
    "from string import punctuation"
   ]
  },
  {
   "cell_type": "code",
   "execution_count": 17,
   "metadata": {},
   "outputs": [
    {
     "data": {
      "text/plain": [
       "nltk.corpus.reader.util.ConcatenatedCorpusView"
      ]
     },
     "execution_count": 17,
     "metadata": {},
     "output_type": "execute_result"
    }
   ],
   "source": [
    "type(corpus.words())"
   ]
  },
  {
   "cell_type": "code",
   "execution_count": 18,
   "metadata": {},
   "outputs": [
    {
     "data": {
      "text/plain": [
       "32362926"
      ]
     },
     "execution_count": 18,
     "metadata": {},
     "output_type": "execute_result"
    }
   ],
   "source": [
    "len(corpus.words())"
   ]
  },
  {
   "cell_type": "code",
   "execution_count": 8,
   "metadata": {},
   "outputs": [],
   "source": [
    "sw = stopwords.words('english')"
   ]
  },
  {
   "cell_type": "code",
   "execution_count": 9,
   "metadata": {},
   "outputs": [],
   "source": [
    "cp = [w.lower() for w in corpus.words() if w.lower() not in sw]\n",
    "#len(cp)"
   ]
  },
  {
   "cell_type": "code",
   "execution_count": 10,
   "metadata": {},
   "outputs": [],
   "source": [
    "cp_np = [w.lower() for w in cp if w.lower() not in punctuation]"
   ]
  },
  {
   "cell_type": "code",
   "execution_count": 11,
   "metadata": {},
   "outputs": [
    {
     "data": {
      "text/plain": [
       "143307"
      ]
     },
     "execution_count": 11,
     "metadata": {},
     "output_type": "execute_result"
    }
   ],
   "source": [
    "#len(cp_np), len(set(cp_np))\n",
    "import re\n",
    "pat = re.compile('[^a-zA-Z]')\n",
    "cp_set = set(cp_np)\n",
    "cp_final_set = set([pat.sub('', w) for w in cp_set])\n",
    "cp_final = list(cp_final_set)\n",
    "cp_final.remove('')\n",
    "len(cp_final)"
   ]
  },
  {
   "cell_type": "code",
   "execution_count": 12,
   "metadata": {},
   "outputs": [
    {
     "data": {
      "text/plain": [
       "107599"
      ]
     },
     "execution_count": 12,
     "metadata": {},
     "output_type": "execute_result"
    }
   ],
   "source": [
    "from nltk.stem import PorterStemmer\n",
    "ps = PorterStemmer()\n",
    "cp_final_set = set([ps.stem(w) for w in cp_final])\n",
    "cp_final = list(cp_final_set)\n",
    "len(cp_final)"
   ]
  },
  {
   "cell_type": "code",
   "execution_count": 13,
   "metadata": {},
   "outputs": [],
   "source": [
    "def corpify(text):\n",
    "    \"\"\"This function takes a text input an converts it to a form where \n",
    "    it has the has only the words recognized by the corpus. That is, it only has words \n",
    "    in cp_final. Only works for documents in the corpus\n",
    "    Must have defined punctuation and sw globally, and imported re\"\"\"\n",
    "    words = [w.lower() for w in corpus._word_tokenizer.tokenize(text) if w.lower() not in sw]\n",
    "    words_np = [w.lower() for w in words if w.lower() not in punctuation]\n",
    "    pat = re.compile('[^a-zA-Z]')\n",
    "    #ps = PorterStemmer()\n",
    "    words_final = [(pat.sub('', w)) for w in words_np if pat.sub('',w)!='']\n",
    "    words_final = list(map(ps.stem, words_final))\n",
    "    return words_final\n",
    "\n",
    "def dictify(words):\n",
    "    return (dict(list(np.array(np.unique(words,return_counts=True)).transpose())))"
   ]
  },
  {
   "cell_type": "markdown",
   "metadata": {},
   "source": [
    "# Reducing Categories\n",
    "There are too many categories to expect reasonable performance. The easiest way to generalize these categories accurately is to use arxiv's own subcategory system. A category and its subcategory are separated by a '.' so if we remove everthing after the period in each category we will get a more general category that more papers will belong to."
   ]
  },
  {
   "cell_type": "code",
   "execution_count": 14,
   "metadata": {},
   "outputs": [
    {
     "data": {
      "text/plain": [
       "38"
      ]
     },
     "execution_count": 14,
     "metadata": {},
     "output_type": "execute_result"
    }
   ],
   "source": [
    "#df = pd.read_csv(\"selected_rows.csv\")\n",
    "df.categories = df.categories.str.split()\n",
    "#df.head()\n",
    "def generalized_cats(cats):\n",
    "    \"\"\"Remove subcategory information from a set of categories in order \n",
    "    to reduce the total number of categories present in the data\"\"\"\n",
    "    return list(set(map(lambda y: y.split('.')[0], cats)))\n",
    "df.categories = df.categories.apply(generalized_cats)\n",
    "s = set()\n",
    "for l in np.unique(df.categories):\n",
    "    s = s.union(set(l))\n",
    "len(s) #should be 38"
   ]
  },
  {
   "cell_type": "code",
   "execution_count": 15,
   "metadata": {},
   "outputs": [],
   "source": [
    "from collections import defaultdict\n",
    "m = list()\n",
    "for i in range(len(df)):\n",
    "    d = defaultdict(lambda : 0)#, _id = df.iloc[i].id)\n",
    "    for k in s:\n",
    "        d['_'+k] = int(k in df.iloc[i].categories)\n",
    "    ab = dictify(corpify(df.iloc[i].abstract))\n",
    "    for k in ab.keys():\n",
    "        d[k] = ab[k]\n",
    "    m.append(d)"
   ]
  },
  {
   "cell_type": "code",
   "execution_count": 16,
   "metadata": {},
   "outputs": [],
   "source": [
    "dv = DictVectorizer()\n",
    "mat = dv.fit_transform(m)\n",
    "col_dict = dict([(v,k) for k,v in dv.vocabulary_.items()])\n",
    "cols = [col_dict[i] for i in range(len(col_dict))]\n",
    "sp_df = pd.DataFrame.sparse.from_spmatrix(mat, columns = cols)"
   ]
  },
  {
   "cell_type": "code",
   "execution_count": 20,
   "metadata": {},
   "outputs": [
    {
     "data": {
      "text/plain": [
       "0.00048811985163166153"
      ]
     },
     "execution_count": 20,
     "metadata": {},
     "output_type": "execute_result"
    }
   ],
   "source": [
    "sp_df.sparse.density"
   ]
  },
  {
   "cell_type": "code",
   "execution_count": 50,
   "metadata": {},
   "outputs": [],
   "source": [
    "#Look less than one-twentieth of a percent of our data is non-zero!"
   ]
  },
  {
   "cell_type": "code",
   "execution_count": 21,
   "metadata": {},
   "outputs": [
    {
     "data": {
      "text/html": [
       "<div>\n",
       "<style scoped>\n",
       "    .dataframe tbody tr th:only-of-type {\n",
       "        vertical-align: middle;\n",
       "    }\n",
       "\n",
       "    .dataframe tbody tr th {\n",
       "        vertical-align: top;\n",
       "    }\n",
       "\n",
       "    .dataframe thead th {\n",
       "        text-align: right;\n",
       "    }\n",
       "</style>\n",
       "<table border=\"1\" class=\"dataframe\">\n",
       "  <thead>\n",
       "    <tr style=\"text-align: right;\">\n",
       "      <th></th>\n",
       "      <th>_acc-phys</th>\n",
       "      <th>_adap-org</th>\n",
       "      <th>_alg-geom</th>\n",
       "      <th>_ao-sci</th>\n",
       "      <th>_astro-ph</th>\n",
       "      <th>_atom-ph</th>\n",
       "      <th>_bayes-an</th>\n",
       "      <th>_chao-dyn</th>\n",
       "      <th>_chem-ph</th>\n",
       "      <th>_cmp-lg</th>\n",
       "      <th>...</th>\n",
       "      <th>zzn=2</th>\n",
       "      <th>zzq=5</th>\n",
       "      <th>zzr=1</th>\n",
       "      <th>zzstar=1</th>\n",
       "      <th>zzt=1</th>\n",
       "      <th>zzw=1</th>\n",
       "      <th>zzz=1</th>\n",
       "      <th>zzz=2</th>\n",
       "      <th>zzz=5</th>\n",
       "      <th>zzzjzzz=1</th>\n",
       "    </tr>\n",
       "  </thead>\n",
       "  <tbody>\n",
       "    <tr>\n",
       "      <th>0</th>\n",
       "      <td>0.0</td>\n",
       "      <td>0.0</td>\n",
       "      <td>0.0</td>\n",
       "      <td>0.0</td>\n",
       "      <td>0.0</td>\n",
       "      <td>0.0</td>\n",
       "      <td>0.0</td>\n",
       "      <td>0.0</td>\n",
       "      <td>0.0</td>\n",
       "      <td>0.0</td>\n",
       "      <td>...</td>\n",
       "      <td>0.0</td>\n",
       "      <td>0.0</td>\n",
       "      <td>0.0</td>\n",
       "      <td>0.0</td>\n",
       "      <td>0.0</td>\n",
       "      <td>0.0</td>\n",
       "      <td>0.0</td>\n",
       "      <td>0.0</td>\n",
       "      <td>0.0</td>\n",
       "      <td>0.0</td>\n",
       "    </tr>\n",
       "    <tr>\n",
       "      <th>1</th>\n",
       "      <td>0.0</td>\n",
       "      <td>0.0</td>\n",
       "      <td>0.0</td>\n",
       "      <td>0.0</td>\n",
       "      <td>0.0</td>\n",
       "      <td>0.0</td>\n",
       "      <td>0.0</td>\n",
       "      <td>0.0</td>\n",
       "      <td>0.0</td>\n",
       "      <td>0.0</td>\n",
       "      <td>...</td>\n",
       "      <td>0.0</td>\n",
       "      <td>0.0</td>\n",
       "      <td>0.0</td>\n",
       "      <td>0.0</td>\n",
       "      <td>0.0</td>\n",
       "      <td>0.0</td>\n",
       "      <td>0.0</td>\n",
       "      <td>0.0</td>\n",
       "      <td>0.0</td>\n",
       "      <td>0.0</td>\n",
       "    </tr>\n",
       "    <tr>\n",
       "      <th>2</th>\n",
       "      <td>0.0</td>\n",
       "      <td>0.0</td>\n",
       "      <td>0.0</td>\n",
       "      <td>0.0</td>\n",
       "      <td>0.0</td>\n",
       "      <td>0.0</td>\n",
       "      <td>0.0</td>\n",
       "      <td>0.0</td>\n",
       "      <td>0.0</td>\n",
       "      <td>0.0</td>\n",
       "      <td>...</td>\n",
       "      <td>0.0</td>\n",
       "      <td>0.0</td>\n",
       "      <td>0.0</td>\n",
       "      <td>0.0</td>\n",
       "      <td>0.0</td>\n",
       "      <td>0.0</td>\n",
       "      <td>0.0</td>\n",
       "      <td>0.0</td>\n",
       "      <td>0.0</td>\n",
       "      <td>0.0</td>\n",
       "    </tr>\n",
       "    <tr>\n",
       "      <th>3</th>\n",
       "      <td>0.0</td>\n",
       "      <td>0.0</td>\n",
       "      <td>0.0</td>\n",
       "      <td>0.0</td>\n",
       "      <td>0.0</td>\n",
       "      <td>0.0</td>\n",
       "      <td>0.0</td>\n",
       "      <td>0.0</td>\n",
       "      <td>0.0</td>\n",
       "      <td>0.0</td>\n",
       "      <td>...</td>\n",
       "      <td>0.0</td>\n",
       "      <td>0.0</td>\n",
       "      <td>0.0</td>\n",
       "      <td>0.0</td>\n",
       "      <td>0.0</td>\n",
       "      <td>0.0</td>\n",
       "      <td>0.0</td>\n",
       "      <td>0.0</td>\n",
       "      <td>0.0</td>\n",
       "      <td>0.0</td>\n",
       "    </tr>\n",
       "    <tr>\n",
       "      <th>4</th>\n",
       "      <td>0.0</td>\n",
       "      <td>0.0</td>\n",
       "      <td>0.0</td>\n",
       "      <td>0.0</td>\n",
       "      <td>0.0</td>\n",
       "      <td>0.0</td>\n",
       "      <td>0.0</td>\n",
       "      <td>0.0</td>\n",
       "      <td>0.0</td>\n",
       "      <td>0.0</td>\n",
       "      <td>...</td>\n",
       "      <td>0.0</td>\n",
       "      <td>0.0</td>\n",
       "      <td>0.0</td>\n",
       "      <td>0.0</td>\n",
       "      <td>0.0</td>\n",
       "      <td>0.0</td>\n",
       "      <td>0.0</td>\n",
       "      <td>0.0</td>\n",
       "      <td>0.0</td>\n",
       "      <td>0.0</td>\n",
       "    </tr>\n",
       "  </tbody>\n",
       "</table>\n",
       "<p>5 rows × 199817 columns</p>\n",
       "</div>"
      ],
      "text/plain": [
       "   _acc-phys  _adap-org  _alg-geom  _ao-sci  _astro-ph  _atom-ph  _bayes-an  \\\n",
       "0        0.0        0.0        0.0      0.0        0.0       0.0        0.0   \n",
       "1        0.0        0.0        0.0      0.0        0.0       0.0        0.0   \n",
       "2        0.0        0.0        0.0      0.0        0.0       0.0        0.0   \n",
       "3        0.0        0.0        0.0      0.0        0.0       0.0        0.0   \n",
       "4        0.0        0.0        0.0      0.0        0.0       0.0        0.0   \n",
       "\n",
       "   _chao-dyn  _chem-ph  _cmp-lg  ...  zzn=2  zzq=5  zzr=1  zzstar=1  zzt=1  \\\n",
       "0        0.0       0.0      0.0  ...    0.0    0.0    0.0       0.0    0.0   \n",
       "1        0.0       0.0      0.0  ...    0.0    0.0    0.0       0.0    0.0   \n",
       "2        0.0       0.0      0.0  ...    0.0    0.0    0.0       0.0    0.0   \n",
       "3        0.0       0.0      0.0  ...    0.0    0.0    0.0       0.0    0.0   \n",
       "4        0.0       0.0      0.0  ...    0.0    0.0    0.0       0.0    0.0   \n",
       "\n",
       "   zzw=1  zzz=1  zzz=2  zzz=5  zzzjzzz=1  \n",
       "0    0.0    0.0    0.0    0.0        0.0  \n",
       "1    0.0    0.0    0.0    0.0        0.0  \n",
       "2    0.0    0.0    0.0    0.0        0.0  \n",
       "3    0.0    0.0    0.0    0.0        0.0  \n",
       "4    0.0    0.0    0.0    0.0        0.0  \n",
       "\n",
       "[5 rows x 199817 columns]"
      ]
     },
     "execution_count": 21,
     "metadata": {},
     "output_type": "execute_result"
    }
   ],
   "source": [
    "sp_df.head()"
   ]
  },
  {
   "cell_type": "code",
   "execution_count": 17,
   "metadata": {},
   "outputs": [
    {
     "name": "stdout",
     "output_type": "stream",
     "text": [
      "<class 'pandas.core.frame.DataFrame'>\n",
      "RangeIndex: 193177 entries, 0 to 193176\n",
      "Columns: 199817 entries, _acc-phys to zzzjzzz=1\n",
      "dtypes: Sparse[float64, 0](199817)\n",
      "memory usage: 215.6 MB\n"
     ]
    }
   ],
   "source": [
    "sp_df.info()"
   ]
  },
  {
   "cell_type": "code",
   "execution_count": 2,
   "metadata": {},
   "outputs": [],
   "source": [
    "sp_df = pd.read_pickle('sparsedf.pkl')#Yay!!! It works!!!"
   ]
  },
  {
   "cell_type": "code",
   "execution_count": null,
   "metadata": {},
   "outputs": [],
   "source": []
  },
  {
   "cell_type": "code",
   "execution_count": 1,
   "metadata": {},
   "outputs": [],
   "source": [
    "from sklearn.naive_bayes import MultinomialNB\n",
    "from sklearn.metrics import f1_score\n",
    "#train, test = train_test_split(sp_df, test_size=0.2)\n",
    "#y_train, y_test = train.filter(regex=\"^_\", axis=1), test.filter(regex=\"^_\", axis=1)\n",
    "#X_train, X_test = train.drop(y_test.columns, axis=1), test.drop(y_test.columns, axis=1)\n",
    "#clf = MultinomialNB() was going to do this, but had to "
   ]
  },
  {
   "cell_type": "code",
   "execution_count": 4,
   "metadata": {},
   "outputs": [],
   "source": [
    "from imblearn.over_sampling import RandomOverSampler #We know we need to oversample"
   ]
  },
  {
   "cell_type": "code",
   "execution_count": 5,
   "metadata": {},
   "outputs": [],
   "source": [
    "presence = sp_df[y_train.columns].sum()"
   ]
  },
  {
   "cell_type": "code",
   "execution_count": 46,
   "metadata": {},
   "outputs": [
    {
     "data": {
      "text/plain": [
       "38"
      ]
     },
     "execution_count": 46,
     "metadata": {},
     "output_type": "execute_result"
    }
   ],
   "source": [
    "len(presence)"
   ]
  },
  {
   "cell_type": "code",
   "execution_count": 49,
   "metadata": {},
   "outputs": [],
   "source": [
    "from sklearn.experimental import enable_hist_gradient_boosting#\n",
    "from sklearn.ensemble import HistGradientBoostingClassifier#Does not work with sparse data"
   ]
  },
  {
   "cell_type": "code",
   "execution_count": 5,
   "metadata": {},
   "outputs": [],
   "source": [
    "from sklearn.ensemble import GradientBoostingClassifier"
   ]
  },
  {
   "cell_type": "code",
   "execution_count": 62,
   "metadata": {},
   "outputs": [
    {
     "data": {
      "text/plain": [
       "GradientBoostingClassifier(max_features='log2', n_iter_no_change=10,\n",
       "                           random_state=0)"
      ]
     },
     "execution_count": 62,
     "metadata": {},
     "output_type": "execute_result"
    }
   ],
   "source": [
    "gbc = GradientBoostingClassifier(random_state=0, max_features='log2', n_iter_no_change=10)\n",
    "gbc.fit(X_train, y_train.iloc[:,4])"
   ]
  },
  {
   "cell_type": "code",
   "execution_count": 63,
   "metadata": {},
   "outputs": [
    {
     "data": {
      "text/plain": [
       "0.0037839697282421743"
      ]
     },
     "execution_count": 63,
     "metadata": {},
     "output_type": "execute_result"
    }
   ],
   "source": [
    "f1_score(gbc.predict(X_test), y_test.iloc[:,4])"
   ]
  },
  {
   "cell_type": "code",
   "execution_count": 58,
   "metadata": {},
   "outputs": [
    {
     "data": {
      "text/plain": [
       "'_astro-ph'"
      ]
     },
     "execution_count": 58,
     "metadata": {},
     "output_type": "execute_result"
    }
   ],
   "source": [
    "y_test.columns[4]"
   ]
  },
  {
   "cell_type": "code",
   "execution_count": 39,
   "metadata": {},
   "outputs": [
    {
     "data": {
      "text/plain": [
       "15"
      ]
     },
     "execution_count": 39,
     "metadata": {},
     "output_type": "execute_result"
    }
   ],
   "source": [
    "droppable = list()\n",
    "for col in presence.index:\n",
    "    if (presence[col]<presence.quantile(0.40)):# and 'ph' in col):\n",
    "        droppable.append(presence[col])\n",
    "len(droppable)"
   ]
  },
  {
   "cell_type": "code",
   "execution_count": 44,
   "metadata": {},
   "outputs": [
    {
     "data": {
      "text/plain": [
       "_bayes-an        1.0\n",
       "_ao-sci          3.0\n",
       "_plasm-ph        5.0\n",
       "_acc-phys       10.0\n",
       "_comp-gas       19.0\n",
       "_atom-ph        19.0\n",
       "_chem-ph        20.0\n",
       "_supr-con       21.0\n",
       "_funct-an       30.0\n",
       "_mtrl-th        32.0\n",
       "_adap-org       53.0\n",
       "_dg-ga          74.0\n",
       "_patt-sol       74.0\n",
       "_cmp-lg        102.0\n",
       "_alg-geom      153.0\n",
       "_solv-int      154.0\n",
       "_q-alg         175.0\n",
       "_chao-dyn      231.0\n",
       "_econ          417.0\n",
       "_q-fin        1374.0\n",
       "_nucl-ex      2121.0\n",
       "_hep-lat      2432.0\n",
       "_q-bio        3441.0\n",
       "_nlin         3675.0\n",
       "_eess         3915.0\n",
       "_hep-ex       4478.0\n",
       "_nucl-th      4987.0\n",
       "_math-ph      6680.0\n",
       "_gr-qc        8845.0\n",
       "_stat         9073.0\n",
       "_quant-ph    11483.0\n",
       "_hep-th      14690.0\n",
       "_hep-ph      15913.0\n",
       "_physics     19651.0\n",
       "_astro-ph    29194.0\n",
       "_cond-mat    31463.0\n",
       "_cs          37332.0\n",
       "_math        51296.0\n",
       "dtype: float64"
      ]
     },
     "execution_count": 44,
     "metadata": {},
     "output_type": "execute_result"
    }
   ],
   "source": [
    "presence.sort_values()"
   ]
  },
  {
   "cell_type": "code",
   "execution_count": 59,
   "metadata": {},
   "outputs": [],
   "source": [
    "col_map = {'_bayes-an' : '_math',\n",
    "'_ao-sci' : '_physics',\n",
    "'_plasm-ph' : '_physics',\n",
    "'_acc-phys' : '_physics',\n",
    "'_comp-gas' : '_physics',\n",
    "'_atom-ph' : '_physics',\n",
    "'_chem-ph' : '_physics',\n",
    "'_supr-con' : '_physics',\n",
    "'_funct-an' : '_math',\n",
    "'_mtrl-th' : '_physics',\n",
    "'_dg-ga' : '_math',\n",
    "'_patt-sol' : '_physics',\n",
    "'_cmp-lg' : '_cs',\n",
    "'_alg-geom' : '_math', \n",
    "'_solv-int' : '_math',   \n",
    "'_q-alg' : '_math',\n",
    "'_chao-dyn' : '_math'}"
   ]
  },
  {
   "cell_type": "code",
   "execution_count": 61,
   "metadata": {},
   "outputs": [
    {
     "data": {
      "text/plain": [
       "120602    0.0\n",
       "183804    0.0\n",
       "159152    0.0\n",
       "100475    0.0\n",
       "Name: _adap-org, dtype: Sparse[float64, 0]"
      ]
     },
     "execution_count": 61,
     "metadata": {},
     "output_type": "execute_result"
    }
   ],
   "source": [
    "(y_train.iloc[:4,1]).apply(lambda x: min(x, 1))"
   ]
  },
  {
   "cell_type": "code",
   "execution_count": null,
   "metadata": {},
   "outputs": [],
   "source": [
    "for col in col_map.keys():\n",
    "    sp_df[col_map[col]] = (so_dfsp_df[col_map[col]]+so_dfsp_df[col]).apply(lambda x: min(x, 1))"
   ]
  },
  {
   "cell_type": "code",
   "execution_count": 22,
   "metadata": {},
   "outputs": [],
   "source": [
    "sp_df = sp_df[~sp_df.index.duplicated(keep='first')] #eliminate duplicates (just in case)\n",
    "y = sp_df.filter(regex=\"^_\", axis=1) \n",
    "X = sp_df.drop(y.columns, axis=1)"
   ]
  },
  {
   "cell_type": "code",
   "execution_count": 20,
   "metadata": {},
   "outputs": [],
   "source": [
    "from scipy.sparse import csr_matrix\n",
    "from imblearn.over_sampling import SMOTE \n",
    "#I actually have no grounds for using SMOTE over naive sampling, but am trying to avoid an error"
   ]
  },
  {
   "cell_type": "code",
   "execution_count": 30,
   "metadata": {},
   "outputs": [
    {
     "data": {
      "text/plain": [
       "<193177x1 sparse matrix of type '<class 'numpy.float64'>'\n",
       "\twith 53 stored elements in COOrdinate format>"
      ]
     },
     "execution_count": 30,
     "metadata": {},
     "output_type": "execute_result"
    }
   ],
   "source": [
    "pd.DataFrame(y.iloc[:,0]).sparse.to_coo()"
   ]
  },
  {
   "cell_type": "code",
   "execution_count": 35,
   "metadata": {},
   "outputs": [
    {
     "data": {
      "text/plain": [
       "38592707883"
      ]
     },
     "execution_count": 35,
     "metadata": {},
     "output_type": "execute_result"
    }
   ],
   "source": [
    "X.shape[0]*X.shape[1]"
   ]
  },
  {
   "cell_type": "code",
   "execution_count": 48,
   "metadata": {},
   "outputs": [],
   "source": [
    "med = y.sum().median()"
   ]
  },
  {
   "cell_type": "code",
   "execution_count": 67,
   "metadata": {},
   "outputs": [
    {
     "data": {
      "text/plain": [
       "6680.0"
      ]
     },
     "execution_count": 67,
     "metadata": {},
     "output_type": "execute_result"
    }
   ],
   "source": [
    "med"
   ]
  },
  {
   "cell_type": "code",
   "execution_count": 73,
   "metadata": {},
   "outputs": [
    {
     "data": {
      "text/plain": [
       "_adap-org       53.0\n",
       "_econ          417.0\n",
       "_q-fin        1374.0\n",
       "_nucl-ex      2121.0\n",
       "_hep-lat      2432.0\n",
       "_q-bio        3441.0\n",
       "_nlin         3675.0\n",
       "_eess         3915.0\n",
       "_hep-ex       4478.0\n",
       "_nucl-th      4987.0\n",
       "_math-ph      6680.0\n",
       "_gr-qc        8845.0\n",
       "_stat         9073.0\n",
       "_quant-ph    11483.0\n",
       "_hep-th      14690.0\n",
       "_hep-ph      15913.0\n",
       "_physics     19871.0\n",
       "_astro-ph    29194.0\n",
       "_cond-mat    31463.0\n",
       "_cs          37332.0\n",
       "_math        51626.0\n",
       "dtype: float64"
      ]
     },
     "execution_count": 73,
     "metadata": {},
     "output_type": "execute_result"
    }
   ],
   "source": [
    "y.sum().sort_values()"
   ]
  },
  {
   "cell_type": "code",
   "execution_count": 74,
   "metadata": {},
   "outputs": [
    {
     "name": "stdout",
     "output_type": "stream",
     "text": [
      "_adap-org MultinomialNB() 0.0\n",
      "_astro-ph MultinomialNB() 0.8925676840834627\n",
      "_cond-mat MultinomialNB() 0.7942148153586374\n",
      "_cs MultinomialNB() 0.8282528762898826\n",
      "_econ MultinomialNB() 0.0\n",
      "_eess GradientBoostingClassifier(n_iter_no_change=5) 0.04724409448818897\n",
      "_gr-qc MultinomialNB() 0.6378132118451024\n",
      "_hep-ex GradientBoostingClassifier(n_iter_no_change=5) 0.31\n",
      "_hep-lat GradientBoostingClassifier(n_iter_no_change=5) 0.2702702702702703\n",
      "_hep-ph MultinomialNB() 0.7257037770547462\n",
      "_hep-th MultinomialNB() 0.6220366379310345\n",
      "_math MultinomialNB() 0.8300718006476138\n",
      "_math-ph MultinomialNB() 0.198542172856647\n",
      "_nlin GradientBoostingClassifier(n_iter_no_change=5) 0.07874015748031497\n",
      "_nucl-ex GradientBoostingClassifier(n_iter_no_change=5) 0.32941176470588235\n",
      "_nucl-th GradientBoostingClassifier(n_iter_no_change=5) 0.3278688524590164\n",
      "_physics MultinomialNB() 0.5181849670938691\n",
      "_q-bio GradientBoostingClassifier(n_iter_no_change=5) 0.20740740740740743\n",
      "_q-fin GradientBoostingClassifier(n_iter_no_change=5) 0.5555555555555556\n",
      "_quant-ph MultinomialNB() 0.6092447587774691\n",
      "_stat MultinomialNB() 0.46172289775646524\n"
     ]
    }
   ],
   "source": [
    "from random import sample\n",
    "models = dict()\n",
    "tscores = dict()\n",
    "\n",
    "for col in y.columns:\n",
    "    if y.sum()[col]<med:\n",
    "        s = sample(range(len(X)), k=min(30000, 10*int(y.sum()[col])))\n",
    "        s.extend(sp_df[sp_df[y.columns[0]]==1].index)\n",
    "        X_train, X_test, y_train, y_test = train_test_split(X.iloc[s], y.iloc[s], test_size=0.2)\n",
    "    else:\n",
    "        X_train, X_test, y_train, y_test = train_test_split(X, y, test_size=0.2)\n",
    "    nb = MultinomialNB()\n",
    "    grad = GradientBoostingClassifier(n_iter_no_change=5)\n",
    "    nb.fit(X_train, y_train[col])\n",
    "    grad.fit(X_train, y_train[col])\n",
    "    ns = f1_score(nb.predict(X_test), y_test[col])\n",
    "    gs = f1_score(grad.predict(X_test), y_test[col])\n",
    "    if ns < gs:\n",
    "        models[col] = grad\n",
    "        tscores[col] = gs\n",
    "    else:\n",
    "        models[col] = nb\n",
    "        tscores[col] = ns\n",
    "        \n",
    "for key in models.keys():\n",
    "    print(key, models[key], tscores[key])"
   ]
  },
  {
   "cell_type": "code",
   "execution_count": 75,
   "metadata": {},
   "outputs": [
    {
     "data": {
      "text/plain": [
       "{'_adap-org': 0.0,\n",
       " '_astro-ph': 0.8999259985888103,\n",
       " '_cond-mat': 0.811612468308982,\n",
       " '_cs': 0.8423030758598951,\n",
       " '_econ': 0.0,\n",
       " '_eess': 0.09893522626441881,\n",
       " '_gr-qc': 0.6692316526932353,\n",
       " '_hep-ex': 0.3291702309666381,\n",
       " '_hep-lat': 0.29521016617790813,\n",
       " '_hep-ph': 0.7407469482387776,\n",
       " '_hep-th': 0.6543567006407309,\n",
       " '_math': 0.8487824727871338,\n",
       " '_math-ph': 0.26594594594594595,\n",
       " '_nlin': 0.07064803049555272,\n",
       " '_nucl-ex': 0.27352653858677956,\n",
       " '_nucl-th': 0.31263650546021843,\n",
       " '_physics': 0.5891908059728966,\n",
       " '_q-bio': 0.29749501219241853,\n",
       " '_q-fin': 0.37428445618670186,\n",
       " '_quant-ph': 0.667883581786837,\n",
       " '_stat': 0.5106187821914909}"
      ]
     },
     "execution_count": 75,
     "metadata": {},
     "output_type": "execute_result"
    }
   ],
   "source": [
    "#X_train, X_test, y_train, y_test = train_test_split(X, y, test_size=0.2) #is this valid? Actually, forget this we'll look at everything\n",
    "scores = dict()\n",
    "for key in models.keys():\n",
    "    scores[key] = f1_score(models[key].predict(X), y[key])\n",
    "scores"
   ]
  },
  {
   "cell_type": "code",
   "execution_count": 77,
   "metadata": {},
   "outputs": [
    {
     "data": {
      "text/plain": [
       "0.4548811713973987"
      ]
     },
     "execution_count": 77,
     "metadata": {},
     "output_type": "execute_result"
    }
   ],
   "source": [
    "to_avg = [scores[key] for key in scores.keys()]\n",
    "sum(to_avg)/len(to_avg)"
   ]
  },
  {
   "cell_type": "code",
   "execution_count": 49,
   "metadata": {
    "scrolled": true
   },
   "outputs": [
    {
     "data": {
      "text/plain": [
       "[('_acc-phys', 0.0),\n",
       " ('_adap-org', 0.0),\n",
       " ('_alg-geom', 0.04),\n",
       " ('_ao-sci', 0.0),\n",
       " ('_astro-ph', 0.8933712610981812),\n",
       " ('_atom-ph', 0.0),\n",
       " ('_bayes-an', 0.0),\n",
       " ('_chao-dyn', 0.0),\n",
       " ('_chem-ph', 0.0),\n",
       " ('_cmp-lg', 0.0),\n",
       " ('_comp-gas', 0.0),\n",
       " ('_cond-mat', 0.7992508823741267),\n",
       " ('_cs', 0.8299344501092499),\n",
       " ('_dg-ga', 0.0),\n",
       " ('_econ', 0.0202020202020202),\n",
       " ('_eess', 0.31903945111492277),\n",
       " ('_funct-an', 0.0),\n",
       " ('_gr-qc', 0.6105698258045468),\n",
       " ('_hep-ex', 0.5293150684931507),\n",
       " ('_hep-lat', 0.11307420494699645),\n",
       " ('_hep-ph', 0.7246745897000565),\n",
       " ('_hep-th', 0.6239719563165701),\n",
       " ('_math', 0.8433443446703578),\n",
       " ('_math-ph', 0.17985853822835973),\n",
       " ('_mtrl-th', 0.0),\n",
       " ('_nlin', 0.07159904534606205),\n",
       " ('_nucl-ex', 0.15503875968992248),\n",
       " ('_nucl-th', 0.39268292682926825),\n",
       " ('_patt-sol', 0.0),\n",
       " ('_physics', 0.5302474793767186),\n",
       " ('_plasm-ph', 0.0),\n",
       " ('_q-alg', 0.0),\n",
       " ('_q-bio', 0.33540372670807456),\n",
       " ('_q-fin', 0.030581039755351685),\n",
       " ('_quant-ph', 0.615702479338843),\n",
       " ('_solv-int', 0.0),\n",
       " ('_stat', 0.4733606557377049),\n",
       " ('_supr-con', 0.0)]"
      ]
     },
     "execution_count": 49,
     "metadata": {},
     "output_type": "execute_result"
    }
   ],
   "source": [
    "scores"
   ]
  },
  {
   "cell_type": "code",
   "execution_count": 47,
   "metadata": {},
   "outputs": [
    {
     "data": {
      "text/plain": [
       "0.24029533436422335"
      ]
     },
     "execution_count": 47,
     "metadata": {},
     "output_type": "execute_result"
    }
   ],
   "source": [
    "#Don't know if this is actually valid, but an average f1_score accross classes gives us a\n",
    "#reference for the model\n",
    "sum(list(map(lambda x: x[1], scores)))/38 #Average f1_score of the 38 NaiveBayes models"
   ]
  },
  {
   "cell_type": "markdown",
   "metadata": {},
   "source": [
    "Some of the component models do very well, but on average Naive Bayes modeling is not doing a very good job of predicting the categories of our abstracts. For now we will save the data frame in a pickle file instead of a csv because I have concerns about maintaining the sparse qualities of the object if I use the csv file."
   ]
  },
  {
   "cell_type": "code",
   "execution_count": 48,
   "metadata": {},
   "outputs": [],
   "source": [
    "sp_df.to_pickle(\"sparsedf.pkl\")"
   ]
  },
  {
   "cell_type": "code",
   "execution_count": 45,
   "metadata": {},
   "outputs": [],
   "source": [
    "from sklearn.ensemble import RandomForestClassifier"
   ]
  },
  {
   "cell_type": "code",
   "execution_count": 11,
   "metadata": {},
   "outputs": [
    {
     "data": {
      "text/plain": [
       "RandomForestClassifier(max_features='log2', n_estimators=1000)"
      ]
     },
     "execution_count": 11,
     "metadata": {},
     "output_type": "execute_result"
    }
   ],
   "source": [
    "rfc = RandomForestClassifier(n_estimators=1000, max_features='log2')\n",
    "rfc.fit(X_train, y_train.iloc[:,0])"
   ]
  },
  {
   "cell_type": "code",
   "execution_count": null,
   "metadata": {},
   "outputs": [],
   "source": []
  },
  {
   "cell_type": "code",
   "execution_count": null,
   "metadata": {},
   "outputs": [],
   "source": [
    "\"\"\"rfcs = list()\n",
    "for i in range(len(y_train.columns)):\n",
    "    rfc = RandomForestClassifier(n_estimators=100, max_features='log2')\n",
    "    rfc.fit(X_train, y_train.iloc[:,i])\n",
    "    rfcs.append(rfc)\"\"\"#Uses too much memory"
   ]
  },
  {
   "cell_type": "code",
   "execution_count": null,
   "metadata": {},
   "outputs": [],
   "source": [
    "rfc_scores = list()\n",
    "for i, rfc in enumerate(rfcs):\n",
    "    rfc_scores.append((y_test.columns[i], f1_score(rfc.predict(X_test), y_test.iloc[:,i])))"
   ]
  },
  {
   "cell_type": "code",
   "execution_count": null,
   "metadata": {},
   "outputs": [],
   "source": [
    "rfc_scores"
   ]
  },
  {
   "cell_type": "code",
   "execution_count": null,
   "metadata": {},
   "outputs": [],
   "source": [
    "sum(list(map(lambda x: x[1], rfc_scores)))/38"
   ]
  },
  {
   "cell_type": "markdown",
   "metadata": {},
   "source": [
    "# Reducing Categories\n",
    "There are too many categories to expect reasonable performance. The easiest way to generalize these categories accurately is to use arxiv's own subcategory system. A category and its subcategory are separated by a '.' so if we remove everthing after the period in each category we will get a more general category that more papers will belong to."
   ]
  },
  {
   "cell_type": "code",
   "execution_count": 15,
   "metadata": {},
   "outputs": [
    {
     "data": {
      "text/plain": [
       "38"
      ]
     },
     "execution_count": 15,
     "metadata": {},
     "output_type": "execute_result"
    }
   ],
   "source": [
    "def generalized_cats(cats):\n",
    "    \"\"\"Remove subcategory information from a set of categories in order \n",
    "    to reduce the total number of categories present in the data\"\"\"\n",
    "    return list(set(map(lambda y: y.split('.')[0], cats)))\n",
    "df.categories = df.categories.apply(generalized_cats)\n",
    "s = set()\n",
    "for l in np.unique(df.categories):\n",
    "    s = s.union(set(l))\n",
    "len(s) #should be 38"
   ]
  },
  {
   "cell_type": "markdown",
   "metadata": {},
   "source": [
    "As we can see, we now have a much more managable list of categories for classification. We could group categories together and reduce the total number of them further, but we won't trouble ourselves with that for the time being."
   ]
  },
  {
   "cell_type": "code",
   "execution_count": 91,
   "metadata": {},
   "outputs": [
    {
     "data": {
      "text/plain": [
       "0                      [hep-ph]\n",
       "1                    [math, cs]\n",
       "2                     [physics]\n",
       "3                        [math]\n",
       "4                        [math]\n",
       "                   ...         \n",
       "1931772    [supr-con, cond-mat]\n",
       "1931773    [supr-con, cond-mat]\n",
       "1931774    [supr-con, cond-mat]\n",
       "1931775    [supr-con, cond-mat]\n",
       "1931776    [supr-con, cond-mat]\n",
       "Name: categories, Length: 1931777, dtype: object"
      ]
     },
     "execution_count": 91,
     "metadata": {},
     "output_type": "execute_result"
    }
   ],
   "source": [
    "df.categories"
   ]
  },
  {
   "cell_type": "code",
   "execution_count": 101,
   "metadata": {},
   "outputs": [
    {
     "data": {
      "text/plain": [
       "836"
      ]
     },
     "execution_count": 101,
     "metadata": {},
     "output_type": "execute_result"
    }
   ],
   "source": [
    "is_d = dict()\n",
    "for key in new_d.keys():\n",
    "    if new_d[key][2] < new_d[key][0]+new_d[key][1]:\n",
    "        continue\n",
    "    is_d[key] = new_d[key]\n",
    "len(new_d)-38"
   ]
  },
  {
   "cell_type": "code",
   "execution_count": 52,
   "metadata": {},
   "outputs": [],
   "source": [
    "import networkx as nx"
   ]
  },
  {
   "cell_type": "code",
   "execution_count": 53,
   "metadata": {},
   "outputs": [],
   "source": [
    "g = dict()\n",
    "for key in s:\n",
    "    g[key] = []\n",
    "    for r in df.categories:\n",
    "        if key in r:\n",
    "            for k in r:\n",
    "                g[key].append(k)\n",
    "        g[key] = list(set(g[key]))\n",
    "    g[key] = list(set(g[key]).difference(set([key])))\n"
   ]
  },
  {
   "cell_type": "code",
   "execution_count": 54,
   "metadata": {},
   "outputs": [],
   "source": [
    "gr = nx.Graph(g)"
   ]
  },
  {
   "cell_type": "code",
   "execution_count": 60,
   "metadata": {},
   "outputs": [
    {
     "data": {
      "image/png": "[encoded data removed]",
      "text/plain": [
       "<Figure size 720x720 with 1 Axes>"
      ]
     },
     "metadata": {},
     "output_type": "display_data"
    }
   ],
   "source": [
    "import matplotlib.pyplot as plt\n",
    "plt.figure(figsize=(10,10))\n",
    "nx.draw_networkx(gr, with_labels=True)"
   ]
  },
  {
   "cell_type": "code",
   "execution_count": 66,
   "metadata": {},
   "outputs": [
    {
     "data": {
      "text/plain": [
       "('acc-phys', 5)"
      ]
     },
     "execution_count": 66,
     "metadata": {},
     "output_type": "execute_result"
    }
   ],
   "source": [
    "min([(t[0], len(t[1])) for t in gr.adjacency()])"
   ]
  },
  {
   "cell_type": "code",
   "execution_count": 30,
   "metadata": {},
   "outputs": [
    {
     "data": {
      "text/html": [
       "<div>\n",
       "<style scoped>\n",
       "    .dataframe tbody tr th:only-of-type {\n",
       "        vertical-align: middle;\n",
       "    }\n",
       "\n",
       "    .dataframe tbody tr th {\n",
       "        vertical-align: top;\n",
       "    }\n",
       "\n",
       "    .dataframe thead th {\n",
       "        text-align: right;\n",
       "    }\n",
       "</style>\n",
       "<table border=\"1\" class=\"dataframe\">\n",
       "  <thead>\n",
       "    <tr style=\"text-align: right;\">\n",
       "      <th></th>\n",
       "      <th>id</th>\n",
       "      <th>categories</th>\n",
       "      <th>title</th>\n",
       "      <th>abstract</th>\n",
       "    </tr>\n",
       "  </thead>\n",
       "  <tbody>\n",
       "    <tr>\n",
       "      <th>193172</th>\n",
       "      <td>911.0642</td>\n",
       "      <td>math.MG math.FA</td>\n",
       "      <td>On the Homothety Conjecture</td>\n",
       "      <td>Let $K$ be a convex body in $\\bbR^n$ and $\\d...</td>\n",
       "    </tr>\n",
       "    <tr>\n",
       "      <th>193173</th>\n",
       "      <td>1410.3737</td>\n",
       "      <td>math.AP</td>\n",
       "      <td>The factorization method for a defective regio...</td>\n",
       "      <td>In this paper we consider the inverse acoust...</td>\n",
       "    </tr>\n",
       "    <tr>\n",
       "      <th>193174</th>\n",
       "      <td>2001.02437</td>\n",
       "      <td>math.NT</td>\n",
       "      <td>On the irreducible factors of a polynomial II</td>\n",
       "      <td>We give a lower bound for the degree of an i...</td>\n",
       "    </tr>\n",
       "    <tr>\n",
       "      <th>193175</th>\n",
       "      <td>708.2303</td>\n",
       "      <td>cs.AI cs.CL</td>\n",
       "      <td>Compositional Semantics Grounded in Commonsens...</td>\n",
       "      <td>We argue for a compositional semantics groun...</td>\n",
       "    </tr>\n",
       "    <tr>\n",
       "      <th>193176</th>\n",
       "      <td>1705.1108600000002</td>\n",
       "      <td>physics.optics nlin.PS</td>\n",
       "      <td>The multi-resonant Lugiato-Lefever model</td>\n",
       "      <td>We introduce a new model describing multiple...</td>\n",
       "    </tr>\n",
       "  </tbody>\n",
       "</table>\n",
       "</div>"
      ],
      "text/plain": [
       "                        id              categories  \\\n",
       "193172            911.0642         math.MG math.FA   \n",
       "193173           1410.3737                 math.AP   \n",
       "193174          2001.02437                 math.NT   \n",
       "193175            708.2303             cs.AI cs.CL   \n",
       "193176  1705.1108600000002  physics.optics nlin.PS   \n",
       "\n",
       "                                                    title  \\\n",
       "193172                        On the Homothety Conjecture   \n",
       "193173  The factorization method for a defective regio...   \n",
       "193174      On the irreducible factors of a polynomial II   \n",
       "193175  Compositional Semantics Grounded in Commonsens...   \n",
       "193176           The multi-resonant Lugiato-Lefever model   \n",
       "\n",
       "                                                 abstract  \n",
       "193172    Let $K$ be a convex body in $\\bbR^n$ and $\\d...  \n",
       "193173    In this paper we consider the inverse acoust...  \n",
       "193174    We give a lower bound for the degree of an i...  \n",
       "193175    We argue for a compositional semantics groun...  \n",
       "193176    We introduce a new model describing multiple...  "
      ]
     },
     "execution_count": 30,
     "metadata": {},
     "output_type": "execute_result"
    }
   ],
   "source": [
    "df.tail()"
   ]
  },
  {
   "cell_type": "code",
   "execution_count": 29,
   "metadata": {},
   "outputs": [
    {
     "data": {
      "text/plain": [
       "0    [cond-mat.mes-hall, quant-ph]\n",
       "1                   [cs.IR, cs.CY]\n",
       "2                 [physics.optics]\n",
       "3                        [math.CT]\n",
       "4                         [hep-ph]\n",
       "Name: categories, dtype: object"
      ]
     },
     "execution_count": 29,
     "metadata": {},
     "output_type": "execute_result"
    }
   ],
   "source": [
    "cats = df.categories.apply(lambda x: x.split())\n",
    "cats.head()"
   ]
  },
  {
   "cell_type": "code",
   "execution_count": 26,
   "metadata": {},
   "outputs": [],
   "source": [
    "cat_set = reduce(lambda x, y: x.union(y), np.unique(df.categories.apply(lambda x: x.split())), set())"
   ]
  },
  {
   "cell_type": "code",
   "execution_count": 27,
   "metadata": {},
   "outputs": [
    {
     "data": {
      "text/plain": [
       "38"
      ]
     },
     "execution_count": 27,
     "metadata": {},
     "output_type": "execute_result"
    }
   ],
   "source": [
    "cat_set\n",
    "len(set(map(lambda x: x.split('.')[0], cat_set)))"
   ]
  },
  {
   "cell_type": "code",
   "execution_count": 28,
   "metadata": {},
   "outputs": [
    {
     "data": {
      "text/plain": [
       "{'acc-phys',\n",
       " 'adap-org',\n",
       " 'alg-geom',\n",
       " 'ao-sci',\n",
       " 'astro-ph',\n",
       " 'astro-ph.CO',\n",
       " 'astro-ph.EP',\n",
       " 'astro-ph.GA',\n",
       " 'astro-ph.HE',\n",
       " 'astro-ph.IM',\n",
       " 'astro-ph.SR',\n",
       " 'atom-ph',\n",
       " 'bayes-an',\n",
       " 'chao-dyn',\n",
       " 'chem-ph',\n",
       " 'cmp-lg',\n",
       " 'comp-gas',\n",
       " 'cond-mat',\n",
       " 'cond-mat.dis-nn',\n",
       " 'cond-mat.mes-hall',\n",
       " 'cond-mat.mtrl-sci',\n",
       " 'cond-mat.other',\n",
       " 'cond-mat.quant-gas',\n",
       " 'cond-mat.soft',\n",
       " 'cond-mat.stat-mech',\n",
       " 'cond-mat.str-el',\n",
       " 'cond-mat.supr-con',\n",
       " 'cs.AI',\n",
       " 'cs.AR',\n",
       " 'cs.CC',\n",
       " 'cs.CE',\n",
       " 'cs.CG',\n",
       " 'cs.CL',\n",
       " 'cs.CR',\n",
       " 'cs.CV',\n",
       " 'cs.CY',\n",
       " 'cs.DB',\n",
       " 'cs.DC',\n",
       " 'cs.DL',\n",
       " 'cs.DM',\n",
       " 'cs.DS',\n",
       " 'cs.ET',\n",
       " 'cs.FL',\n",
       " 'cs.GL',\n",
       " 'cs.GR',\n",
       " 'cs.GT',\n",
       " 'cs.HC',\n",
       " 'cs.IR',\n",
       " 'cs.IT',\n",
       " 'cs.LG',\n",
       " 'cs.LO',\n",
       " 'cs.MA',\n",
       " 'cs.MM',\n",
       " 'cs.MS',\n",
       " 'cs.NA',\n",
       " 'cs.NE',\n",
       " 'cs.NI',\n",
       " 'cs.OH',\n",
       " 'cs.OS',\n",
       " 'cs.PF',\n",
       " 'cs.PL',\n",
       " 'cs.RO',\n",
       " 'cs.SC',\n",
       " 'cs.SD',\n",
       " 'cs.SE',\n",
       " 'cs.SI',\n",
       " 'cs.SY',\n",
       " 'dg-ga',\n",
       " 'econ.EM',\n",
       " 'econ.GN',\n",
       " 'econ.TH',\n",
       " 'eess.AS',\n",
       " 'eess.IV',\n",
       " 'eess.SP',\n",
       " 'eess.SY',\n",
       " 'funct-an',\n",
       " 'gr-qc',\n",
       " 'hep-ex',\n",
       " 'hep-lat',\n",
       " 'hep-ph',\n",
       " 'hep-th',\n",
       " 'math-ph',\n",
       " 'math.AC',\n",
       " 'math.AG',\n",
       " 'math.AP',\n",
       " 'math.AT',\n",
       " 'math.CA',\n",
       " 'math.CO',\n",
       " 'math.CT',\n",
       " 'math.CV',\n",
       " 'math.DG',\n",
       " 'math.DS',\n",
       " 'math.FA',\n",
       " 'math.GM',\n",
       " 'math.GN',\n",
       " 'math.GR',\n",
       " 'math.GT',\n",
       " 'math.HO',\n",
       " 'math.IT',\n",
       " 'math.KT',\n",
       " 'math.LO',\n",
       " 'math.MG',\n",
       " 'math.MP',\n",
       " 'math.NA',\n",
       " 'math.NT',\n",
       " 'math.OA',\n",
       " 'math.OC',\n",
       " 'math.PR',\n",
       " 'math.QA',\n",
       " 'math.RA',\n",
       " 'math.RT',\n",
       " 'math.SG',\n",
       " 'math.SP',\n",
       " 'math.ST',\n",
       " 'mtrl-th',\n",
       " 'nlin.AO',\n",
       " 'nlin.CD',\n",
       " 'nlin.CG',\n",
       " 'nlin.PS',\n",
       " 'nlin.SI',\n",
       " 'nucl-ex',\n",
       " 'nucl-th',\n",
       " 'patt-sol',\n",
       " 'physics.acc-ph',\n",
       " 'physics.ao-ph',\n",
       " 'physics.app-ph',\n",
       " 'physics.atm-clus',\n",
       " 'physics.atom-ph',\n",
       " 'physics.bio-ph',\n",
       " 'physics.chem-ph',\n",
       " 'physics.class-ph',\n",
       " 'physics.comp-ph',\n",
       " 'physics.data-an',\n",
       " 'physics.ed-ph',\n",
       " 'physics.flu-dyn',\n",
       " 'physics.gen-ph',\n",
       " 'physics.geo-ph',\n",
       " 'physics.hist-ph',\n",
       " 'physics.ins-det',\n",
       " 'physics.med-ph',\n",
       " 'physics.optics',\n",
       " 'physics.plasm-ph',\n",
       " 'physics.pop-ph',\n",
       " 'physics.soc-ph',\n",
       " 'physics.space-ph',\n",
       " 'plasm-ph',\n",
       " 'q-alg',\n",
       " 'q-bio',\n",
       " 'q-bio.BM',\n",
       " 'q-bio.CB',\n",
       " 'q-bio.GN',\n",
       " 'q-bio.MN',\n",
       " 'q-bio.NC',\n",
       " 'q-bio.OT',\n",
       " 'q-bio.PE',\n",
       " 'q-bio.QM',\n",
       " 'q-bio.SC',\n",
       " 'q-bio.TO',\n",
       " 'q-fin.CP',\n",
       " 'q-fin.EC',\n",
       " 'q-fin.GN',\n",
       " 'q-fin.MF',\n",
       " 'q-fin.PM',\n",
       " 'q-fin.PR',\n",
       " 'q-fin.RM',\n",
       " 'q-fin.ST',\n",
       " 'q-fin.TR',\n",
       " 'quant-ph',\n",
       " 'solv-int',\n",
       " 'stat.AP',\n",
       " 'stat.CO',\n",
       " 'stat.ME',\n",
       " 'stat.ML',\n",
       " 'stat.OT',\n",
       " 'stat.TH',\n",
       " 'supr-con'}"
      ]
     },
     "execution_count": 28,
     "metadata": {},
     "output_type": "execute_result"
    }
   ],
   "source": [
    "cat_set"
   ]
  },
  {
   "cell_type": "code",
   "execution_count": 9,
   "metadata": {},
   "outputs": [
    {
     "data": {
      "text/plain": [
       "176"
      ]
     },
     "execution_count": 9,
     "metadata": {},
     "output_type": "execute_result"
    }
   ],
   "source": [
    "len(cats)"
   ]
  },
  {
   "cell_type": "code",
   "execution_count": 15,
   "metadata": {
    "scrolled": true
   },
   "outputs": [
    {
     "data": {
      "text/plain": [
       "(1086078, 1931777)"
      ]
     },
     "execution_count": 15,
     "metadata": {},
     "output_type": "execute_result"
    }
   ],
   "source": [
    "cat_series = df.categories.apply(lambda x: len(x.split()))\n",
    "(cat_series == 1).sum(), len(cat_series)"
   ]
  },
  {
   "cell_type": "code",
   "execution_count": 21,
   "metadata": {},
   "outputs": [],
   "source": [
    "master_cats = set(df.categories.apply(lambda x: (x.split()))[cat_series==1].apply(lambda x: x[0]))"
   ]
  },
  {
   "cell_type": "code",
   "execution_count": 49,
   "metadata": {},
   "outputs": [
    {
     "data": {
      "text/plain": [
       "defaultdict(<function __main__.<lambda>()>,\n",
       "            {'q-fin.ST': 2821,\n",
       "             'physics.gen-ph': 9580,\n",
       "             'cs.HC': 8386,\n",
       "             'nucl-ex': 22008,\n",
       "             'cs.OH': 2045,\n",
       "             'cs.NE': 9902,\n",
       "             'math.HO': 2882,\n",
       "             'q-fin.GN': 2249,\n",
       "             'gr-qc': 89243,\n",
       "             'cs.SY': 17511,\n",
       "             'math.AP': 47183,\n",
       "             'math.RT': 21252,\n",
       "             'math.CA': 18370,\n",
       "             'math.SG': 7626,\n",
       "             'cs.SE': 9685,\n",
       "             'math.AG': 43653,\n",
       "             'physics.plasm-ph': 12712,\n",
       "             'physics.space-ph': 4659,\n",
       "             'cs.MA': 4504,\n",
       "             'stat.AP': 12796,\n",
       "             'cond-mat.supr-con': 37548,\n",
       "             'nlin.SI': 10508,\n",
       "             'physics.ao-ph': 4624,\n",
       "             'q-bio.OT': 1025,\n",
       "             'q-bio.CB': 1837,\n",
       "             'nlin.AO': 5962,\n",
       "             'astro-ph.CO': 55473,\n",
       "             'eess.IV': 11083,\n",
       "             'cond-mat.dis-nn': 20009,\n",
       "             'cond-mat.soft': 33096,\n",
       "             'math.CT': 6503,\n",
       "             'q-fin.EC': 2407,\n",
       "             'eess.AS': 6153,\n",
       "             'cs.DM': 10370,\n",
       "             'cs.IR': 10009,\n",
       "             'cs.CY': 10901,\n",
       "             'q-fin.TR': 1326,\n",
       "             'hep-th': 145712,\n",
       "             'cs.DS': 17993,\n",
       "             'hep-ph': 158716,\n",
       "             'physics.flu-dyn': 20183,\n",
       "             'math.OA': 10681,\n",
       "             'nlin.PS': 8222,\n",
       "             'q-bio.BM': 4285,\n",
       "             'cs.AI': 36918,\n",
       "             'cs.AR': 2457,\n",
       "             'math.DG': 34945,\n",
       "             'cs.GT': 7814,\n",
       "             'math.SP': 7990,\n",
       "             'cond-mat.str-el': 61714,\n",
       "             'cs.DL': 3716,\n",
       "             'math.LO': 10454,\n",
       "             'physics.data-an': 8376,\n",
       "             'cond-mat.quant-gas': 17039,\n",
       "             'math.PR': 44625,\n",
       "             'physics.optics': 34581,\n",
       "             'cond-mat.stat-mech': 62870,\n",
       "             'cs.SD': 6492,\n",
       "             'physics.ins-det': 16310,\n",
       "             'physics.hist-ph': 3989,\n",
       "             'physics.geo-ph': 5153,\n",
       "             'cs.GR': 3045,\n",
       "             'astro-ph': 105380,\n",
       "             'q-bio.NC': 6913,\n",
       "             'q-fin.RM': 1706,\n",
       "             'q-bio.TO': 1779,\n",
       "             'q-bio.PE': 9292,\n",
       "             'cs.RO': 15152,\n",
       "             'q-bio.SC': 1533,\n",
       "             'physics.class-ph': 7198,\n",
       "             'cond-mat.mes-hall': 75020,\n",
       "             'hep-ex': 44950,\n",
       "             'math.CO': 51124,\n",
       "             'math.NA': 25931,\n",
       "             'cs.PF': 2799,\n",
       "             'cs.LO': 12225,\n",
       "             'cs.OS': 644,\n",
       "             'astro-ph.GA': 47914,\n",
       "             'cs.FL': 3694,\n",
       "             'physics.app-ph': 10914,\n",
       "             'nlin.CG': 1328,\n",
       "             'cs.MS': 1706,\n",
       "             'math.GN': 4090,\n",
       "             'cond-mat.other': 14023,\n",
       "             'q-fin.PR': 1668,\n",
       "             'physics.comp-ph': 16778,\n",
       "             'nucl-th': 50147,\n",
       "             'math.MG': 8874,\n",
       "             'stat.OT': 978,\n",
       "             'physics.atm-clus': 2342,\n",
       "             'physics.pop-ph': 2038,\n",
       "             'physics.acc-ph': 6300,\n",
       "             'hep-lat': 24526,\n",
       "             'q-fin.MF': 1757,\n",
       "             'cond-mat.mtrl-sci': 72681,\n",
       "             'astro-ph.SR': 48089,\n",
       "             'math.AT': 12544,\n",
       "             'astro-ph.HE': 43649,\n",
       "             'eess.SP': 14088,\n",
       "             'math.KT': 4955,\n",
       "             'physics.med-ph': 4660,\n",
       "             'astro-ph.EP': 21518,\n",
       "             'stat.CO': 5915,\n",
       "             'math.RA': 14092,\n",
       "             'econ.EM': 1882,\n",
       "             'cs.CL': 28856,\n",
       "             'physics.atom-ph': 17504,\n",
       "             'math.GT': 18989,\n",
       "             'cs.NA': 11910,\n",
       "             'cs.CC': 8412,\n",
       "             'cs.GL': 222,\n",
       "             'q-bio.GN': 2504,\n",
       "             'cs.DB': 6153,\n",
       "             'q-fin.CP': 1661,\n",
       "             'cs.SI': 14562,\n",
       "             'cs.ET': 2475,\n",
       "             'cs.CE': 4514,\n",
       "             'cs.CV': 61792,\n",
       "             'cs.NI': 16329,\n",
       "             'math.GR': 17901,\n",
       "             'math.FA': 24758,\n",
       "             'stat.ME': 17293,\n",
       "             'math.GM': 3173,\n",
       "             'cs.CG': 5253,\n",
       "             'astro-ph.IM': 21040,\n",
       "             'math.QA': 16663,\n",
       "             'cs.MM': 3555,\n",
       "             'cs.LG': 89257,\n",
       "             'econ.TH': 1039,\n",
       "             'math.OC': 32665,\n",
       "             'q-bio.QM': 7440,\n",
       "             'q-bio.MN': 3209,\n",
       "             'cs.DC': 14564,\n",
       "             'quant-ph': 115835,\n",
       "             'math.CV': 13948,\n",
       "             'physics.chem-ph': 16196,\n",
       "             'math.DS': 28532,\n",
       "             'math.AC': 10537,\n",
       "             'cs.SC': 1918,\n",
       "             'math.NT': 32974,\n",
       "             'stat.ML': 50517,\n",
       "             'nlin.CD': 13898,\n",
       "             'physics.soc-ph': 18063,\n",
       "             'cond-mat': 14215,\n",
       "             'cs.CR': 19053,\n",
       "             'q-fin.PM': 1364,\n",
       "             'physics.bio-ph': 12214,\n",
       "             'physics.ed-ph': 3062,\n",
       "             'cs.PL': 5611})"
      ]
     },
     "execution_count": 49,
     "metadata": {},
     "output_type": "execute_result"
    }
   ],
   "source": [
    "cats_series = df.categories.apply(lambda x: (x.split()))\n",
    "d = defaultdict(lambda :  0)\n",
    "for cat in master_cats:\n",
    "    d[cat] = cats_series.apply(lambda x: cat in set(x)).sum()\n",
    "d"
   ]
  },
  {
   "cell_type": "code",
   "execution_count": 41,
   "metadata": {},
   "outputs": [
    {
     "data": {
      "text/plain": [
       "{'q-fin.ST': 2821,\n",
       " 'physics.gen-ph': 9580,\n",
       " 'cs.HC': 8386,\n",
       " 'nucl-ex': 22008,\n",
       " 'cs.NE': 9902,\n",
       " 'cs.OH': 2045,\n",
       " 'math.HO': 2882,\n",
       " 'q-fin.GN': 2249,\n",
       " 'gr-qc': 89243,\n",
       " 'cs.SY': 17511,\n",
       " 'math.AP': 47183,\n",
       " 'math.RT': 21252,\n",
       " 'math.CA': 18370,\n",
       " 'math.SG': 7626,\n",
       " 'cs.SE': 9685,\n",
       " 'math.AG': 43653,\n",
       " 'physics.plasm-ph': 12712,\n",
       " 'physics.space-ph': 4659,\n",
       " 'cs.MA': 4504,\n",
       " 'bayes-an': 16,\n",
       " 'stat.AP': 12796,\n",
       " 'cond-mat.supr-con': 37548,\n",
       " 'nlin.SI': 10508,\n",
       " 'physics.ao-ph': 4624,\n",
       " 'ao-sci': 17,\n",
       " 'q-bio.OT': 1025,\n",
       " 'q-bio.CB': 1837,\n",
       " 'nlin.AO': 5962,\n",
       " 'astro-ph.CO': 55473,\n",
       " 'eess.IV': 11083,\n",
       " 'cond-mat.dis-nn': 20009,\n",
       " 'cond-mat.soft': 33096,\n",
       " 'q-fin.EC': 2407,\n",
       " 'math.CT': 6503,\n",
       " 'eess.AS': 6153,\n",
       " 'cs.DM': 10370,\n",
       " 'cs.IR': 10009,\n",
       " 'cs.CY': 10901,\n",
       " 'q-fin.TR': 1326,\n",
       " 'hep-th': 145712,\n",
       " 'cs.DS': 17993,\n",
       " 'hep-ph': 158716,\n",
       " 'physics.flu-dyn': 20183,\n",
       " 'math.OA': 10681,\n",
       " 'nlin.PS': 8222,\n",
       " 'comp-gas': 221,\n",
       " 'q-bio.BM': 4285,\n",
       " 'cs.AI': 36918,\n",
       " 'math.DG': 34945,\n",
       " 'cs.AR': 2457,\n",
       " 'cs.GT': 7814,\n",
       " 'math.ST': 17365,\n",
       " 'math.SP': 7990,\n",
       " 'cond-mat.str-el': 61714,\n",
       " 'cs.DL': 3716,\n",
       " 'chem-ph': 251,\n",
       " 'math.LO': 10454,\n",
       " 'physics.data-an': 8376,\n",
       " 'cond-mat.quant-gas': 17039,\n",
       " 'math.MP': 66764,\n",
       " 'funct-an': 427,\n",
       " 'patt-sol': 650,\n",
       " 'math.PR': 44625,\n",
       " 'cond-mat.stat-mech': 62870,\n",
       " 'physics.optics': 34581,\n",
       " 'supr-con': 175,\n",
       " 'cs.SD': 6492,\n",
       " 'physics.ins-det': 16310,\n",
       " 'q-bio': 1356,\n",
       " 'physics.hist-ph': 3989,\n",
       " 'physics.geo-ph': 5153,\n",
       " 'cs.GR': 3045,\n",
       " 'q-bio.NC': 6913,\n",
       " 'astro-ph': 105380,\n",
       " 'chao-dyn': 2398,\n",
       " 'q-fin.RM': 1706,\n",
       " 'q-bio.TO': 1779,\n",
       " 'q-bio.PE': 9292,\n",
       " 'cs.RO': 15152,\n",
       " 'q-bio.SC': 1533,\n",
       " 'physics.class-ph': 7198,\n",
       " 'cond-mat.mes-hall': 75020,\n",
       " 'hep-ex': 44950,\n",
       " 'math.CO': 51124,\n",
       " 'math.NA': 25931,\n",
       " 'cs.PF': 2799,\n",
       " 'cs.LO': 12225,\n",
       " 'cs.OS': 644,\n",
       " 'astro-ph.GA': 47914,\n",
       " 'cs.FL': 3694,\n",
       " 'math.IT': 36477,\n",
       " 'physics.app-ph': 10914,\n",
       " 'nlin.CG': 1328,\n",
       " 'dg-ga': 732,\n",
       " 'cs.IT': 36477,\n",
       " 'adap-org': 584,\n",
       " 'cs.MS': 1706,\n",
       " 'math.GN': 4090,\n",
       " 'cond-mat.other': 14023,\n",
       " 'q-fin.PR': 1668,\n",
       " 'physics.comp-ph': 16778,\n",
       " 'nucl-th': 50147,\n",
       " 'math.MG': 8874,\n",
       " 'stat.OT': 978,\n",
       " 'physics.atm-clus': 2342,\n",
       " 'physics.pop-ph': 2038,\n",
       " 'physics.acc-ph': 6300,\n",
       " 'hep-lat': 24526,\n",
       " 'q-fin.MF': 1757,\n",
       " 'cond-mat.mtrl-sci': 72681,\n",
       " 'astro-ph.SR': 48089,\n",
       " 'astro-ph.HE': 43649,\n",
       " 'math.AT': 12544,\n",
       " 'math-ph': 66764,\n",
       " 'stat.TH': 17365,\n",
       " 'eess.SP': 14088,\n",
       " 'atom-ph': 123,\n",
       " 'math.KT': 4955,\n",
       " 'physics.med-ph': 4660,\n",
       " 'astro-ph.EP': 21518,\n",
       " 'stat.CO': 5915,\n",
       " 'math.RA': 14092,\n",
       " 'econ.EM': 1882,\n",
       " 'cs.CL': 28856,\n",
       " 'math.GT': 18989,\n",
       " 'physics.atom-ph': 17504,\n",
       " 'cs.NA': 11910,\n",
       " 'plasm-ph': 38,\n",
       " 'cs.CC': 8412,\n",
       " 'cs.GL': 222,\n",
       " 'q-bio.GN': 2504,\n",
       " 'cs.DB': 6153,\n",
       " 'q-fin.CP': 1661,\n",
       " 'eess.SY': 9072,\n",
       " 'cs.SI': 14562,\n",
       " 'cs.ET': 2475,\n",
       " 'cs.CE': 4514,\n",
       " 'cs.CV': 61792,\n",
       " 'cs.NI': 16329,\n",
       " 'alg-geom': 1423,\n",
       " 'math.GR': 17901,\n",
       " 'mtrl-th': 262,\n",
       " 'math.FA': 24758,\n",
       " 'stat.ME': 17293,\n",
       " 'math.GM': 3173,\n",
       " 'cs.CG': 5253,\n",
       " 'astro-ph.IM': 21040,\n",
       " 'math.QA': 16663,\n",
       " 'cs.MM': 3555,\n",
       " 'cs.LG': 89257,\n",
       " 'econ.TH': 1039,\n",
       " 'econ.GN': 1840,\n",
       " 'q-alg': 1578,\n",
       " 'math.OC': 32665,\n",
       " 'q-bio.QM': 7440,\n",
       " 'q-bio.MN': 3209,\n",
       " 'cs.DC': 14564,\n",
       " 'quant-ph': 115835,\n",
       " 'solv-int': 1413,\n",
       " 'physics.chem-ph': 16196,\n",
       " 'math.CV': 13948,\n",
       " 'math.DS': 28532,\n",
       " 'math.AC': 10537,\n",
       " 'cs.SC': 1918,\n",
       " 'math.NT': 32974,\n",
       " 'stat.ML': 50517,\n",
       " 'acc-phys': 49,\n",
       " 'nlin.CD': 13898,\n",
       " 'physics.soc-ph': 18063,\n",
       " 'cond-mat': 14215,\n",
       " 'cs.CR': 19053,\n",
       " 'q-fin.PM': 1364,\n",
       " 'physics.bio-ph': 12214,\n",
       " 'physics.ed-ph': 3062,\n",
       " 'cs.PL': 5611,\n",
       " 'cmp-lg': 894}"
      ]
     },
     "execution_count": 41,
     "metadata": {},
     "output_type": "execute_result"
    }
   ],
   "source": [
    "dict(d)"
   ]
  },
  {
   "cell_type": "code",
   "execution_count": null,
   "metadata": {},
   "outputs": [],
   "source": []
  }
 ],
 "metadata": {
  "kernelspec": {
   "display_name": "Python 3",
   "language": "python",
   "name": "python3"
  },
  "language_info": {
   "codemirror_mode": {
    "name": "ipython",
    "version": 3
   },
   "file_extension": ".py",
   "mimetype": "text/x-python",
   "name": "python",
   "nbconvert_exporter": "python",
   "pygments_lexer": "ipython3",
   "version": "3.8.5"
  }
 },
 "nbformat": 4,
 "nbformat_minor": 4
}
